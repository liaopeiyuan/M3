{
 "cells": [
  {
   "cell_type": "code",
   "execution_count": 2,
   "metadata": {},
   "outputs": [],
   "source": [
    "from __future__ import print_function, division\n",
    "import os\n",
    "import torch\n",
    "import pandas as pd\n",
    "from skimage import io, transform\n",
    "import numpy as np\n",
    "import matplotlib.pyplot as plt\n",
    "from torch.utils.data import Dataset, DataLoader\n",
    "from torchvision import transforms, utils\n",
    "\n",
    "# Ignore warnings\n",
    "import warnings"
   ]
  },
  {
   "cell_type": "code",
   "execution_count": 3,
   "metadata": {},
   "outputs": [],
   "source": [
    "data=pd.read_csv('labelTest.csv')"
   ]
  },
  {
   "cell_type": "code",
   "execution_count": 4,
   "metadata": {},
   "outputs": [
    {
     "name": "stdout",
     "output_type": "stream",
     "text": [
      "      0.41729  -0.48184  -0.95744    3.7452   4.0592   1.6827\n",
      "0   -0.708440  0.035191  0.343450  3.470300  6.19910  3.68730\n",
      "1    0.724470 -0.014902  0.120630  1.356600  4.44440  0.20723\n",
      "2    0.337570 -0.215010  0.638030  5.401000  5.35960  1.57410\n",
      "3   -0.326270  0.251480  0.770830  3.862000  2.37100  0.02172\n",
      "4    0.205750  0.552230  0.475070  5.496400  3.28940  2.55940\n",
      "5    0.720820  0.026250  0.082759  3.418200  0.62564  5.87110\n",
      "6   -0.644620 -0.456250 -0.359830  0.953180  0.46892  3.32740\n",
      "7   -0.671100  0.056052 -0.349700  1.307300  1.68600  5.90050\n",
      "8    0.377030  0.378720 -0.382460  3.948000  3.06370  3.34300\n",
      "9   -0.385920  0.183590  0.550560  5.069700  6.02380  4.77390\n",
      "10  -0.208540 -0.430410  0.186870  5.166100  5.56780  0.14712\n",
      "11   0.076341 -0.665640  0.245120  3.223700  5.66290  5.81410\n",
      "12   0.005568  0.589430 -0.496700  2.215000  0.85434  5.66990\n",
      "13  -0.321860  0.484170 -0.729350  3.778400  2.62240  2.03390\n",
      "14  -0.116960 -0.552830 -0.023224  5.326100  0.97214  6.06600\n",
      "15  -0.486120 -0.543220  0.236580  3.446800  3.10940  0.24074\n",
      "16  -0.473240 -0.079095  0.093025  4.327600  5.58240  4.52100\n",
      "17  -0.352380 -0.703720 -0.373570  3.925100  0.13662  2.21970\n",
      "18   0.051829  0.284380  0.386380  0.020806  5.19520  2.58620\n",
      "19   0.276200  0.117730  0.152660  2.273100  5.75830  3.62670\n",
      "20   0.082073 -0.290240  0.338650  5.303900  3.23150  4.47700\n",
      "21   0.066069 -0.840430 -0.072683  5.620100  5.89540  2.33530\n",
      "22  -0.045526 -0.529760 -0.715580  6.254800  2.77580  1.08310\n",
      "23   0.014073  0.582960  0.163750  5.330700  2.99250  2.90760\n",
      "24   0.245230 -0.856580  0.373020  1.885600  2.15550  5.07130\n",
      "25   0.068304  0.256100  0.403420  1.521800  3.49650  1.21380\n",
      "26  -0.602090 -0.435470 -0.145670  2.365700  3.68170  0.83575\n",
      "27   0.206830  0.449070 -0.484560  1.213400  0.62317  3.08680\n",
      "28  -0.315650 -0.124830  0.311700  2.816800  2.05270  0.89301\n",
      "29   0.668030 -0.269310 -0.308290  5.700300  2.89620  0.16942\n",
      "..        ...       ...       ...       ...      ...      ...\n",
      "170  0.205640  0.086624 -0.402540  3.920200  5.12020  1.17090\n",
      "171  0.384960  0.977370 -0.198390  6.259800  0.54239  1.52090\n",
      "172  0.434880  0.107820 -0.592630  1.535500  3.77030  2.67200\n",
      "173  0.067346  0.325460  0.452700  2.295500  1.69280  4.44160\n",
      "174  0.069849  0.570230  0.311750  5.544500  0.05666  2.21230\n",
      "175  0.202220 -0.239570 -0.029163  3.427700  1.78000  1.69970\n",
      "176  0.506850  0.248060 -0.370310  5.938600  1.24630  3.55360\n",
      "177  0.066806  0.355380  0.210430  4.289500  6.20180  3.49870\n",
      "178  0.264060  0.462250  0.344910  4.853600  3.05220  1.29770\n",
      "179  0.572300 -0.055274 -0.195790  6.149800  0.63198  4.04120\n",
      "180 -0.205410  0.250190 -0.617330  2.465300  3.95520  4.61810\n",
      "181  0.257730  0.441900  0.315520  3.690200  5.66470  1.77630\n",
      "182  0.282980  0.117910 -0.020301  1.669700  4.68660  2.64040\n",
      "183  0.262240 -0.879950 -0.040511  4.206300  1.52080  5.15430\n",
      "184  0.302170 -0.318730 -0.170510  2.762500  5.13460  2.51250\n",
      "185  0.426120  0.405140 -0.139180  2.585000  5.63530  0.48628\n",
      "186  0.574350  0.036581  0.120290  2.307500  1.10300  1.70970\n",
      "187 -0.234240 -0.111130 -0.485000  1.457700  1.71060  0.56064\n",
      "188  0.183680 -0.055145 -0.757870  3.763000  2.24000  3.34330\n",
      "189 -0.575000 -0.431850 -0.191440  2.978300  3.30870  1.32270\n",
      "190  0.738240  0.632820  0.087154  6.015300  0.38172  3.99320\n",
      "191  0.059039  0.293360 -0.186090  5.721700  2.66300  5.92710\n",
      "192  0.358420  0.253010  0.049618  6.161300  2.20350  0.20810\n",
      "193 -0.198160  0.359210 -0.441590  4.583000  4.19240  5.78000\n",
      "194  0.397780 -0.131570  0.136370  2.993900  1.22190  5.53990\n",
      "195  0.186000 -0.422950  0.056233  5.718900  0.13952  1.58430\n",
      "196 -0.688290 -0.083337 -0.162520  2.830100  5.26960  5.15390\n",
      "197 -0.528610  0.261600 -0.137670  1.095000  1.81890  1.00110\n",
      "198 -0.222970 -0.367540 -0.325850  3.933200  6.21650  6.23170\n",
      "199 -0.342160  0.036834  0.589630  0.645350  5.63320  5.68860\n",
      "\n",
      "[200 rows x 6 columns]\n"
     ]
    }
   ],
   "source": [
    "print(data)"
   ]
  },
  {
   "cell_type": "code",
   "execution_count": 14,
   "metadata": {},
   "outputs": [
    {
     "name": "stdout",
     "output_type": "stream",
     "text": [
      "[-0.34216   0.036834  0.58963   0.64535   5.6332    5.6886  ]\n"
     ]
    }
   ],
   "source": [
    "a=data.iloc[0,:].as_matrix()\n",
    "print(a)"
   ]
  },
  {
   "cell_type": "code",
   "execution_count": 15,
   "metadata": {},
   "outputs": [
    {
     "data": {
      "text/plain": [
       "200"
      ]
     },
     "execution_count": 15,
     "metadata": {},
     "output_type": "execute_result"
    }
   ],
   "source": [
    "len(data)"
   ]
  },
  {
   "cell_type": "code",
   "execution_count": 28,
   "metadata": {},
   "outputs": [],
   "source": [
    "class m3dataset(DataLoader):\n",
    "\n",
    "    def __init__(self, feature, label, root_dir, transform=None):\n",
    "        self.feature = pd.read_csv(root_dir+feature)\n",
    "        self.label = pd.read_csv(root_dir+label)\n",
    "        self.root_dir = root_dir\n",
    "        self.transform = transform\n",
    "\n",
    "    def __len__(self):\n",
    "        return len(self.feature)\n",
    "\n",
    "    def __getitem__(self,idx):\n",
    "        sample = {'feature':self.feature.iloc[idx,:].as_matrix(), 'label':self.label.iloc[idx,:].as_matrix()}\n",
    "\n",
    "        if self.transform:\n",
    "            sample = self.transform(sample)\n",
    "\n",
    "        return sample"
   ]
  },
  {
   "cell_type": "code",
   "execution_count": 29,
   "metadata": {},
   "outputs": [
    {
     "data": {
      "text/plain": [
       "'/home/alexanderliao/data/GitHub/M3/data/labelTest.csv'"
      ]
     },
     "execution_count": 29,
     "metadata": {},
     "output_type": "execute_result"
    }
   ],
   "source": [
    "root_dir='/home/alexanderliao/data/GitHub/M3/data/'\n",
    "feature='featureTest.csv'\n",
    "label='labelTest.csv'\n",
    "root_dir+label"
   ]
  },
  {
   "cell_type": "code",
   "execution_count": 30,
   "metadata": {},
   "outputs": [],
   "source": [
    "a=m3loader(feature,label,root_dir)"
   ]
  },
  {
   "cell_type": "code",
   "execution_count": 31,
   "metadata": {},
   "outputs": [
    {
     "data": {
      "text/plain": [
       "200"
      ]
     },
     "execution_count": 31,
     "metadata": {},
     "output_type": "execute_result"
    }
   ],
   "source": [
    "len(a)"
   ]
  },
  {
   "cell_type": "code",
   "execution_count": 32,
   "metadata": {},
   "outputs": [
    {
     "data": {
      "text/plain": [
       "{'feature': array([ 0.0000e+00,  0.0000e+00,  1.9261e-01,  4.5957e-01,  0.0000e+00,\n",
       "         0.0000e+00,  0.0000e+00,  2.2306e-01,  2.1749e-01,  0.0000e+00,\n",
       "         0.0000e+00,  0.0000e+00,  1.5708e+00,  0.0000e+00, -1.5708e+00,\n",
       "         1.5708e+00, -1.5708e+00,  0.0000e+00,  8.5671e+00,  9.3259e+00,\n",
       "         4.1382e-01,  7.0340e+00,  4.2186e+00,  1.1097e+00,  4.0552e-02,\n",
       "         2.4896e-02,  3.9909e-02, -4.9742e-02, -2.7865e-02, -1.6644e-02,\n",
       "         3.6102e-02, -4.0750e-02,  2.2721e-02,  2.7458e-02, -9.3922e-03,\n",
       "        -1.7937e-02, -2.9692e-03, -1.6239e-02,  6.0965e-03,  4.6481e-02,\n",
       "        -1.3056e-02,  3.0479e-02,  2.4448e-01,  6.7020e-01,  8.2581e-01,\n",
       "         1.9946e-01,  6.6382e-01,  4.2402e-01,  8.5787e-01,  2.7206e-01,\n",
       "         2.1595e-01,  2.4466e-01,  8.8702e-01,  4.4261e-01,  5.3710e-01,\n",
       "         4.5111e-01,  2.4546e-01,  5.2602e-01,  1.1326e-01,  5.0079e-01,\n",
       "         4.9843e-03,  3.9849e-03,  1.6356e-03,  4.8252e-03,  3.4363e-04,\n",
       "         3.0316e-03,  1.2302e-01,  2.1426e-01,  1.8129e-01,  1.0816e-01,\n",
       "         3.7374e-01,  5.9977e-02, -2.4077e-01, -5.7970e-02, -5.8677e-02,\n",
       "        -1.3187e-01, -8.6519e-02, -4.5213e-01,  2.5591e+01, -6.6506e+00,\n",
       "         6.6307e-01, -4.1782e+01, -2.1848e+01, -4.8801e+01,  4.0460e-04,\n",
       "         3.4900e-04,  3.9233e-04,  3.8847e-04,  4.5472e-04,  4.5330e-04]),\n",
       " 'label': array([ 0.72447 , -0.014902,  0.12063 ,  1.3566  ,  4.4444  ,  0.20723 ])}"
      ]
     },
     "execution_count": 32,
     "metadata": {},
     "output_type": "execute_result"
    }
   ],
   "source": [
    "a[1]"
   ]
  },
  {
   "cell_type": "code",
   "execution_count": 33,
   "metadata": {},
   "outputs": [
    {
     "ename": "AttributeError",
     "evalue": "'m3loader' object has no attribute 'dataset'",
     "output_type": "error",
     "traceback": [
      "\u001b[0;31m---------------------------------------------------------------------------\u001b[0m",
      "\u001b[0;31mAttributeError\u001b[0m                            Traceback (most recent call last)",
      "\u001b[0;32m<ipython-input-33-071d5ade97d9>\u001b[0m in \u001b[0;36m<module>\u001b[0;34m()\u001b[0m\n\u001b[0;32m----> 1\u001b[0;31m \u001b[0ma\u001b[0m\u001b[0;34m.\u001b[0m\u001b[0m__iter__\u001b[0m\u001b[0;34m(\u001b[0m\u001b[0;34m)\u001b[0m\u001b[0;34m.\u001b[0m\u001b[0m__next__\u001b[0m\u001b[0;34m(\u001b[0m\u001b[0;34m)\u001b[0m\u001b[0;34m[\u001b[0m\u001b[0;36m0\u001b[0m\u001b[0;34m]\u001b[0m\u001b[0;34m\u001b[0m\u001b[0m\n\u001b[0m",
      "\u001b[0;32m~/anaconda3/lib/python3.6/site-packages/torch/utils/data/dataloader.py\u001b[0m in \u001b[0;36m__iter__\u001b[0;34m(self)\u001b[0m\n\u001b[1;32m    449\u001b[0m \u001b[0;34m\u001b[0m\u001b[0m\n\u001b[1;32m    450\u001b[0m     \u001b[0;32mdef\u001b[0m \u001b[0m__iter__\u001b[0m\u001b[0;34m(\u001b[0m\u001b[0mself\u001b[0m\u001b[0;34m)\u001b[0m\u001b[0;34m:\u001b[0m\u001b[0;34m\u001b[0m\u001b[0m\n\u001b[0;32m--> 451\u001b[0;31m         \u001b[0;32mreturn\u001b[0m \u001b[0m_DataLoaderIter\u001b[0m\u001b[0;34m(\u001b[0m\u001b[0mself\u001b[0m\u001b[0;34m)\u001b[0m\u001b[0;34m\u001b[0m\u001b[0m\n\u001b[0m\u001b[1;32m    452\u001b[0m \u001b[0;34m\u001b[0m\u001b[0m\n\u001b[1;32m    453\u001b[0m     \u001b[0;32mdef\u001b[0m \u001b[0m__len__\u001b[0m\u001b[0;34m(\u001b[0m\u001b[0mself\u001b[0m\u001b[0;34m)\u001b[0m\u001b[0;34m:\u001b[0m\u001b[0;34m\u001b[0m\u001b[0m\n",
      "\u001b[0;32m~/anaconda3/lib/python3.6/site-packages/torch/utils/data/dataloader.py\u001b[0m in \u001b[0;36m__init__\u001b[0;34m(self, loader)\u001b[0m\n\u001b[1;32m    188\u001b[0m \u001b[0;34m\u001b[0m\u001b[0m\n\u001b[1;32m    189\u001b[0m     \u001b[0;32mdef\u001b[0m \u001b[0m__init__\u001b[0m\u001b[0;34m(\u001b[0m\u001b[0mself\u001b[0m\u001b[0;34m,\u001b[0m \u001b[0mloader\u001b[0m\u001b[0;34m)\u001b[0m\u001b[0;34m:\u001b[0m\u001b[0;34m\u001b[0m\u001b[0m\n\u001b[0;32m--> 190\u001b[0;31m         \u001b[0mself\u001b[0m\u001b[0;34m.\u001b[0m\u001b[0mdataset\u001b[0m \u001b[0;34m=\u001b[0m \u001b[0mloader\u001b[0m\u001b[0;34m.\u001b[0m\u001b[0mdataset\u001b[0m\u001b[0;34m\u001b[0m\u001b[0m\n\u001b[0m\u001b[1;32m    191\u001b[0m         \u001b[0mself\u001b[0m\u001b[0;34m.\u001b[0m\u001b[0mcollate_fn\u001b[0m \u001b[0;34m=\u001b[0m \u001b[0mloader\u001b[0m\u001b[0;34m.\u001b[0m\u001b[0mcollate_fn\u001b[0m\u001b[0;34m\u001b[0m\u001b[0m\n\u001b[1;32m    192\u001b[0m         \u001b[0mself\u001b[0m\u001b[0;34m.\u001b[0m\u001b[0mbatch_sampler\u001b[0m \u001b[0;34m=\u001b[0m \u001b[0mloader\u001b[0m\u001b[0;34m.\u001b[0m\u001b[0mbatch_sampler\u001b[0m\u001b[0;34m\u001b[0m\u001b[0m\n",
      "\u001b[0;31mAttributeError\u001b[0m: 'm3loader' object has no attribute 'dataset'"
     ]
    }
   ],
   "source": [
    "a.__iter__().__next__()[0]\n"
   ]
  },
  {
   "cell_type": "code",
   "execution_count": null,
   "metadata": {},
   "outputs": [],
   "source": []
  }
 ],
 "metadata": {
  "kernelspec": {
   "display_name": "Python 3",
   "language": "python",
   "name": "python3"
  },
  "language_info": {
   "codemirror_mode": {
    "name": "ipython",
    "version": 3
   },
   "file_extension": ".py",
   "mimetype": "text/x-python",
   "name": "python",
   "nbconvert_exporter": "python",
   "pygments_lexer": "ipython3",
   "version": "3.6.4"
  }
 },
 "nbformat": 4,
 "nbformat_minor": 2
}
